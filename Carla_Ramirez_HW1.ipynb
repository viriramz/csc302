{
  "nbformat": 4,
  "nbformat_minor": 0,
  "metadata": {
    "colab": {
      "provenance": [],
      "authorship_tag": "ABX9TyOKhubY2AqX5gBNOX6uNLV0",
      "include_colab_link": true
    },
    "kernelspec": {
      "name": "python3",
      "display_name": "Python 3"
    },
    "language_info": {
      "name": "python"
    }
  },
  "cells": [
    {
      "cell_type": "markdown",
      "metadata": {
        "id": "view-in-github",
        "colab_type": "text"
      },
      "source": [
        "<a href=\"https://colab.research.google.com/github/viriramz/csc302/blob/main/Carla_Ramirez_HW1.ipynb\" target=\"_parent\"><img src=\"https://colab.research.google.com/assets/colab-badge.svg\" alt=\"Open In Colab\"/></a>"
      ]
    },
    {
      "cell_type": "code",
      "execution_count": 3,
      "metadata": {
        "colab": {
          "base_uri": "https://localhost:8080/"
        },
        "collapsed": true,
        "id": "H9O0DGTHtmW0",
        "outputId": "2b581972-9012-4433-a700-e3be4fa4d13f"
      },
      "outputs": [
        {
          "output_type": "stream",
          "name": "stdout",
          "text": [
            "Drive already mounted at /content/drive; to attempt to forcibly remount, call drive.mount(\"/content/drive\", force_remount=True).\n",
            "Columns in the dataset:\n",
            "Index(['Gender', 'Event', 'Location', 'Year', 'Medal', 'Name', 'Nationality',\n",
            "       'Result'],\n",
            "      dtype='object')\n",
            "Number of rows: 2394\n",
            "Number of columns: 8\n",
            "\n",
            "Column Data Types:\n",
            "Gender         object\n",
            "Event          object\n",
            "Location       object\n",
            "Year            int64\n",
            "Medal          object\n",
            "Name           object\n",
            "Nationality    object\n",
            "Result         object\n",
            "dtype: object\n",
            "\n",
            "Number of unique cities where matches were held: 23\n",
            "\n",
            "Number of medals won by USA: 638\n",
            "\n",
            "Total number of medals for each nationality:\n",
            "Nationality\n",
            "ALG      9\n",
            "ARG      4\n",
            "AUS     57\n",
            "AUT      4\n",
            "BAH     12\n",
            "      ... \n",
            "URS    131\n",
            "USA    638\n",
            "VEN      2\n",
            "YUG      1\n",
            "ZAM      1\n",
            "Name: Medal, Length: 97, dtype: int64\n"
          ]
        }
      ],
      "source": [
        "import pandas as pd\n",
        "from google.colab import drive\n",
        "\n",
        "drive.mount('/content/drive')\n",
        "\n",
        "file_path = '/content/drive/My Drive/DATA/olympic_medals.csv'\n",
        "\n",
        "df = pd.read_csv(file_path)\n",
        "\n",
        "print(\"Columns in the dataset:\")\n",
        "print(df.columns)\n",
        "\n",
        "print(f\"Number of rows: {df.shape[0]}\")\n",
        "print(f\"Number of columns: {df.shape[1]}\")\n",
        "\n",
        "print(\"\\nColumn Data Types:\")\n",
        "print(df.dtypes)\n",
        "\n",
        "num_unique_cities = len(df['Location'].unique())\n",
        "print(f\"\\nNumber of unique cities where matches were held: {num_unique_cities}\")\n",
        "\n",
        "usa_medals = df[df['Nationality'] == 'USA'].shape[0]\n",
        "print(f\"\\nNumber of medals won by USA: {usa_medals}\")\n",
        "\n",
        "medals_by_country = df.groupby('Nationality')['Medal'].count()\n",
        "print(\"\\nTotal number of medals for each nationality:\")\n",
        "print(medals_by_country)\n"
      ]
    }
  ]
}