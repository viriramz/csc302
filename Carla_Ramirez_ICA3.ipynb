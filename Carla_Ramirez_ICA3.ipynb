{
  "nbformat": 4,
  "nbformat_minor": 0,
  "metadata": {
    "colab": {
      "provenance": [],
      "mount_file_id": "1xaHIA7PJmoWHtqRx_MTLFfpXQ_nSCpet",
      "authorship_tag": "ABX9TyPp71Mrl+PB2mdG03qO42Bl",
      "include_colab_link": true
    },
    "kernelspec": {
      "name": "python3",
      "display_name": "Python 3"
    },
    "language_info": {
      "name": "python"
    }
  },
  "cells": [
    {
      "cell_type": "markdown",
      "metadata": {
        "id": "view-in-github",
        "colab_type": "text"
      },
      "source": [
        "<a href=\"https://colab.research.google.com/github/viriramz/csc302/blob/main/Carla_Ramirez_ICA3.ipynb\" target=\"_parent\"><img src=\"https://colab.research.google.com/assets/colab-badge.svg\" alt=\"Open In Colab\"/></a>"
      ]
    },
    {
      "cell_type": "code",
      "execution_count": null,
      "metadata": {
        "colab": {
          "base_uri": "https://localhost:8080/"
        },
        "id": "Irk57abHjxxd",
        "outputId": "59b64cba-68fd-423e-c025-34706545ddb3"
      },
      "outputs": [
        {
          "output_type": "stream",
          "name": "stdout",
          "text": [
            "Drive already mounted at /content/drive; to attempt to forcibly remount, call drive.mount(\"/content/drive\", force_remount=True).\n",
            "Header: ['list_price', 'num_reviews', 'piece_count', 'play_star_rating', 'prod_id', 'review_difficulty', 'star_rating', 'val_star_rating']\n",
            "First 5 items in Price Dictionary: [('75823', '29.99'), ('75822', '19.99'), ('75821', '12.99'), ('21030', '113.9924'), ('21035', '75.9924')]\n",
            "First 5 items in Difficulty Dictionary: [('75823', 'Average'), ('75822', 'Easy'), ('75821', 'Easy'), ('21030', 'Average'), ('21035', 'Challenging')]\n"
          ]
        }
      ],
      "source": [
        "from google.colab import drive\n",
        "drive.mount('/content/drive')\n",
        "\n",
        "file_path = '/content/drive/My Drive/DATA/lego_setsHB.csv'\n",
        "\n",
        "price_dict = {}\n",
        "difficulty_dict = {}\n",
        "\n",
        "with open(file_path, 'r', encoding='utf-8') as file:\n",
        "    header = next(file).strip().split(',')\n",
        "    print(\"Header:\", header)\n",
        "\n",
        "    for i, line in enumerate(file):\n",
        "        if i == 1000:\n",
        "            break\n",
        "\n",
        "        parts = line.strip().split(',')\n",
        "\n",
        "        product_id = parts[4]\n",
        "        price = parts[0]\n",
        "        difficulty = parts[5]\n",
        "\n",
        "        if product_id:\n",
        "            if price:\n",
        "                price_dict[product_id] = price\n",
        "            if difficulty:\n",
        "                difficulty_dict[product_id] = difficulty\n",
        "\n",
        "print(\"First 5 items in Price Dictionary:\", list(price_dict.items())[:5])\n",
        "print(\"First 5 items in Difficulty Dictionary:\", list(difficulty_dict.items())[:5])\n"
      ]
    },
    {
      "cell_type": "markdown",
      "source": [],
      "metadata": {
        "id": "Jma3fV3in1lP"
      }
    }
  ]
}