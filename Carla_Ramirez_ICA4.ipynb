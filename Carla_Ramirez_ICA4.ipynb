{
  "nbformat": 4,
  "nbformat_minor": 0,
  "metadata": {
    "colab": {
      "provenance": [],
      "mount_file_id": "19DU9EFLFpKQG8zWbxd_-RKqncwe6apDf",
      "authorship_tag": "ABX9TyMHVYCTdjsgFxJcBY0QJQqx",
      "include_colab_link": true
    },
    "kernelspec": {
      "name": "python3",
      "display_name": "Python 3"
    },
    "language_info": {
      "name": "python"
    }
  },
  "cells": [
    {
      "cell_type": "markdown",
      "metadata": {
        "id": "view-in-github",
        "colab_type": "text"
      },
      "source": [
        "<a href=\"https://colab.research.google.com/github/viriramz/csc302/blob/main/Carla_Ramirez_ICA4.ipynb\" target=\"_parent\"><img src=\"https://colab.research.google.com/assets/colab-badge.svg\" alt=\"Open In Colab\"/></a>"
      ]
    },
    {
      "cell_type": "code",
      "execution_count": 10,
      "metadata": {
        "colab": {
          "base_uri": "https://localhost:8080/"
        },
        "id": "qnlO7_ZhqJ1A",
        "outputId": "1ec8f38b-afc6-4a7c-f6f1-4d6380ef0d9b"
      },
      "outputs": [
        {
          "output_type": "stream",
          "name": "stdout",
          "text": [
            "Drive already mounted at /content/drive; to attempt to forcibly remount, call drive.mount(\"/content/drive\", force_remount=True).\n",
            "Dataset Info:\n",
            "<class 'pandas.core.frame.DataFrame'>\n",
            "RangeIndex: 12261 entries, 0 to 12260\n",
            "Data columns (total 8 columns):\n",
            " #   Column             Non-Null Count  Dtype  \n",
            "---  ------             --------------  -----  \n",
            " 0   list_price         12261 non-null  float64\n",
            " 1   num_reviews        10641 non-null  float64\n",
            " 2   piece_count        12261 non-null  int64  \n",
            " 3   play_star_rating   10486 non-null  float64\n",
            " 4   prod_id            12261 non-null  int64  \n",
            " 5   review_difficulty  10206 non-null  object \n",
            " 6   star_rating        10641 non-null  float64\n",
            " 7   val_star_rating    10466 non-null  float64\n",
            "dtypes: float64(5), int64(2), object(1)\n",
            "memory usage: 766.4+ KB\n",
            "None\n",
            "\n",
            "Dataset Description:\n",
            "         list_price   num_reviews   piece_count  play_star_rating  \\\n",
            "count  12261.000000  10641.000000  12261.000000      10486.000000   \n",
            "mean      65.141998     16.826238    493.405921          4.337641   \n",
            "std       91.980429     36.368984    825.364580          0.652051   \n",
            "min        2.272400      1.000000      1.000000          1.000000   \n",
            "25%       19.990000      2.000000     97.000000          4.000000   \n",
            "50%       36.587800      6.000000    216.000000          4.500000   \n",
            "75%       70.192200     13.000000    544.000000          4.800000   \n",
            "max     1104.870000    367.000000   7541.000000          5.000000   \n",
            "\n",
            "            prod_id   star_rating  val_star_rating  \n",
            "count  1.226100e+04  10641.000000     10466.000000  \n",
            "mean   5.983675e+04      4.514134         4.228960  \n",
            "std    1.638115e+05      0.518865         0.660282  \n",
            "min    6.300000e+02      1.800000         1.000000  \n",
            "25%    2.103400e+04      4.300000         4.000000  \n",
            "50%    4.206900e+04      4.700000         4.300000  \n",
            "75%    7.092200e+04      5.000000         4.700000  \n",
            "max    2.000431e+06      5.000000         5.000000  \n",
            "\n",
            "Number of Lego sets with star_rating >= 4: 9563\n",
            "\n",
            "Average list price for Lego sets with star_rating >= 4: $68.25\n"
          ]
        }
      ],
      "source": [
        "import pandas as pd\n",
        "from google.colab import drive\n",
        "\n",
        "drive.mount('/content/drive')\n",
        "\n",
        "file_path = '/content/drive/My Drive/DATA/lego_setsHB.csv'\n",
        "\n",
        "df = pd.read_csv(file_path)\n",
        "\n",
        "print(\"Dataset Info:\")\n",
        "print(df.info())\n",
        "\n",
        "print(\"\\nDataset Description:\")\n",
        "print(df.describe())\n",
        "\n",
        "high_rated_lego = df[df['star_rating'] >= 4]\n",
        "\n",
        "num_high_rated = high_rated_lego['star_rating'].count()\n",
        "print(f\"\\nNumber of Lego sets with star_rating >= 4: {num_high_rated}\")\n",
        "\n",
        "df['list_price'] = pd.to_numeric(df['list_price'], errors='coerce')\n",
        "average_price_high_rated = high_rated_lego['list_price'].mean()\n",
        "print(f\"\\nAverage list price for Lego sets with star_rating >= 4: ${average_price_high_rated:.2f}\")\n"
      ]
    }
  ]
}